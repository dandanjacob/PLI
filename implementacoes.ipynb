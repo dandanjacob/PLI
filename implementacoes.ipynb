{
 "cells": [
  {
   "cell_type": "markdown",
   "metadata": {},
   "source": [
    "# Implementações dos problemas de PLI - A2\n",
    "### Disciplina: Programação Linear Inteira\n",
    "### Integrantes: Daniel Jacob, Juliana Carrica, Wendell Oliveira\n",
    "### Professor: Vincent Gerard Y. Guigues\n",
    "### Monitor: Danilo"
   ]
  },
  {
   "cell_type": "code",
   "execution_count": 2,
   "metadata": {},
   "outputs": [
    {
     "name": "stderr",
     "output_type": "stream",
     "text": [
      "\u001b[32m\u001b[1m    Updating\u001b[22m\u001b[39m registry at `C:\\Users\\Daniel\\.julia\\registries\\General.toml`\n",
      "\u001b[32m\u001b[1m   Resolving\u001b[22m\u001b[39m package versions...\n",
      "\u001b[32m\u001b[1m  No Changes\u001b[22m\u001b[39m to `C:\\Users\\Daniel\\.julia\\environments\\v1.10\\Project.toml`\n",
      "\u001b[32m\u001b[1m  No Changes\u001b[22m\u001b[39m to `C:\\Users\\Daniel\\.julia\\environments\\v1.10\\Manifest.toml`\n"
     ]
    }
   ],
   "source": [
    "#Bibliotecas \n",
    "using JuMP\n",
    "using GLPK\n",
    "\n",
    "import Pkg; Pkg.add(\"MathOptInterface\")\n"
   ]
  },
  {
   "cell_type": "markdown",
   "metadata": {},
   "source": [
    "# Problema 1.1"
   ]
  },
  {
   "cell_type": "code",
   "execution_count": 14,
   "metadata": {},
   "outputs": [
    {
     "name": "stdout",
     "output_type": "stream",
     "text": [
      "Custo mínimo: 1050.0\n",
      "Quantidades ótimas de transporte:\n",
      "q[1, 1] = 100.0\n",
      "q[1, 2] = 200.0\n",
      "q[1, 3] = 100.0\n",
      "q[2, 1] = 0.0\n",
      "q[2, 2] = 0.0\n",
      "q[2, 3] = 200.0\n",
      "Excedente na usina 1: 0.0\n",
      "Excedente na usina 2: 100.0\n"
     ]
    }
   ],
   "source": [
    "# Definindo o modelo\n",
    "model = Model(GLPK.Optimizer)\n",
    "\n",
    "# Variáveis de decisão\n",
    "@variable(model, q[1:2, 1:3] >= 0, Int)\n",
    "\n",
    "# Função objetivo\n",
    "c = [1 2 1.5; 2 3.5 2]  # Custos de transporte organizados por usina\n",
    "@objective(model, Min, sum(q[i, j] * c[i, j] for i in 1:2, j in 1:3))\n",
    "\n",
    "# Restrições de capacidade das usinas\n",
    "@constraint(model, sum(q[1, j] for j in 1:3) <= 400)\n",
    "@constraint(model, sum(q[2, j] for j in 1:3) <= 300)\n",
    "\n",
    "# Restrições de demanda das fábricas\n",
    "@constraint(model, sum(q[i,1] for i in 1:2) == 100)\n",
    "@constraint(model, sum(q[i,2] for i in 1:2) == 200)\n",
    "@constraint(model, sum(q[i,3] for i in 1:2) == 300)\n",
    "\n",
    "# Resolvendo o modelo\n",
    "optimize!(model)\n",
    "\n",
    "# Imprimindo o resultado\n",
    "println(\"Custo mínimo: \", objective_value(model))\n",
    "println(\"Quantidades ótimas de transporte:\")\n",
    "for i in 1:2\n",
    "    for j in 1:3\n",
    "        println(\"q[$i, $j] = \", value(q[i, j]))\n",
    "    end\n",
    "end\n",
    "\n",
    "# Imprimindo excedente no estoque\n",
    "println(\"Excedente na usina 1: \", 400 -  value(sum(q[1, j] for j in 1:3)) )\n",
    "println(\"Excedente na usina 2: \", 300 -  value(sum(q[2, j] for j in 1:3)) )"
   ]
  },
  {
   "cell_type": "markdown",
   "metadata": {},
   "source": [
    "# Problema 1.2"
   ]
  },
  {
   "cell_type": "code",
   "execution_count": 63,
   "metadata": {},
   "outputs": [
    {
     "name": "stdout",
     "output_type": "stream",
     "text": [
      "Lucro máximo: 62.0\n",
      "Quantidades ótimas de produção:\n",
      "T[1] = 5.0\n",
      "T[2] = 3.0\n",
      "Excedente Nitrato: 0.0\n",
      "Excedente Sal de Potássio: 0.0\n",
      "Excedente Fosfato: 1.0\n"
     ]
    }
   ],
   "source": [
    "# Definindo o modelo\n",
    "model_first = Model(GLPK.Optimizer)\n",
    "\n",
    "# Variáveis de decisão\n",
    "@variable(model_first, T[1:2] >= 0, Int)\n",
    "\n",
    "# Função objetivo\n",
    "c = [7 9]  # Lucro por kilo de produto\n",
    "@objective(model_first, Max, sum(T[j] * c[j] for j in 1:2))\n",
    "\n",
    "# Restrições de limitação de matéria-prima\n",
    "@constraint(model_first, T[1] + T[2] <= 8)\n",
    "@constraint(model_first, 2T[1] + 3T[2] <= 19)\n",
    "@constraint(model_first, T[2] <= 4)\n",
    "\n",
    "# Resolvendo o modelo]\n",
    "optimize!(model_first)\n",
    "\n",
    "# Imprimindo o resultado\n",
    "println(\"Lucro máximo: \", objective_value(model_first))\n",
    "println(\"Quantidades ótimas de produção:\")\n",
    "for i in 1:2\n",
    "    println(\"T[$i] = \", value(T[i]))\n",
    "end\n",
    "\n",
    "#Exibindo o excedente de matéria-prima\n",
    "println(\"Excedente Nitrato: \", 8 - ( value(T[1]) + value(T[2]) ))\n",
    "println(\"Excedente Sal de Potássio: \", 19 - ( 2value(T[1]) + 3value(T[2])))\n",
    "println(\"Excedente Fosfato: \", 4 -  (value(T[2]) ))\n",
    "\n",
    "\n"
   ]
  },
  {
   "cell_type": "code",
   "execution_count": 64,
   "metadata": {},
   "outputs": [
    {
     "name": "stdout",
     "output_type": "stream",
     "text": [
      "Minimização do preço à granel: 6200.0\n",
      "Preço por granel:\n",
      "P[1] = 300.0\n",
      "P[2] = 200.0\n",
      "P[3] = 0.0\n"
     ]
    }
   ],
   "source": [
    "# Definindo o modelo\n",
    "model_sec = Model(GLPK.Optimizer)\n",
    "\n",
    "# Variáveis de decisão\n",
    "@variable(model_sec, P[1:3] >= 0, Int)\n",
    "\n",
    "# Função objetivo\n",
    "c = [8, 19, 4]  # Quantidade de nutrientes por quilo de produto disponível\n",
    "@objective(model_sec, Min, sum(P[i] * c[i] for i in 1:3))\n",
    "\n",
    "# Restrições de lucro por quilo de produto\n",
    "@constraint(model_sec, P[1] + 2* P[2] >= 700)\n",
    "@constraint(model_sec, P[1] +3P[2] + P[3] >= 900)\n",
    "\n",
    "# Resolvendo o modelo\n",
    "optimize!(model_sec)\n",
    "\n",
    "# Imprimindo o resultado\n",
    "println(\"Minimização do preço à granel: \", objective_value(model_sec))\n",
    "println(\"Preço por granel:\")\n",
    "for i in 1:3\n",
    "    println(\"P[$i] = \", value(P[i]))\n",
    "end\n"
   ]
  },
  {
   "cell_type": "markdown",
   "metadata": {},
   "source": [
    "# Problema 1.3"
   ]
  },
  {
   "cell_type": "code",
   "execution_count": 66,
   "metadata": {},
   "outputs": [
    {
     "name": "stdout",
     "output_type": "stream",
     "text": [
      "Custo mínimo de distribuição: 564.0\n",
      "Quantidades ótimas de distribuição:\n",
      "q[1, 1] = 3.0\n",
      "q[1, 2] = 0.0\n",
      "q[1, 3] = 3.0\n",
      "q[2, 1] = 2.0\n",
      "q[2, 2] = 4.0\n",
      "q[2, 3] = 0.0\n",
      "Sobra na usina 1: 0.0\n",
      "Sobra na usina 2: 0.0\n"
     ]
    }
   ],
   "source": [
    "# Definindo o modelo\n",
    "model = Model(GLPK.Optimizer)\n",
    "\n",
    "# Variáveis de decisão\n",
    "@variable(model, q[1:2 , 1:3] >= 0, Int)\n",
    "\n",
    "# Função objetivo\n",
    "c = [38 27 48 ; 37 58 45]  # Custo de transporte por rota\n",
    "@objective(model, Max, sum(q[i,j] * c[i,j] for i in 1:2, j in 1:3))\n",
    "\n",
    "# Restrições de limitação de matéria-prima\n",
    "@constraint(model, sum(q[1,j] for j in 1:3) <= 6)\n",
    "@constraint(model, sum(q[2,j] for j in 1:3) <= 6)\n",
    "\n",
    "# Restrições de demanda das fábricas\n",
    "@constraint(model, sum(q[i,1] for i in 1:2) == 5)\n",
    "@constraint(model, sum(q[i,2] for i in 1:2) == 4)\n",
    "@constraint(model, sum(q[i,3] for i in 1:2) == 3)\n",
    "\n",
    "# Resolvendo o modelo\n",
    "optimize!(model)\n",
    "\n",
    "# Imprimindo o resultado\n",
    "println(\"Custo mínimo de distribuição: \", objective_value(model))\n",
    "println(\"Quantidades ótimas de distribuição:\")\n",
    "for i in 1:2\n",
    "    for j in 1:3\n",
    "        println(\"q[$i, $j] = \", value(q[i, j]))\n",
    "    end\n",
    "end\n",
    "\n",
    "#Exibindo as sobras de cada usina\n",
    "println(\"Sobra na usina 1: \", 6 -  value(sum(q[1, j] for j in 1:3)) )\n",
    "println(\"Sobra na usina 2: \", 6 -  value(sum(q[2, j] for j in 1:3)) )\n",
    "\n"
   ]
  },
  {
   "cell_type": "markdown",
   "metadata": {},
   "source": [
    "# Problema 1.4"
   ]
  },
  {
   "cell_type": "code",
   "execution_count": 68,
   "metadata": {},
   "outputs": [
    {
     "name": "stdout",
     "output_type": "stream",
     "text": [
      "Lucro máximo: 240.0\n",
      "Quantidades ótimas de produção:\n",
      "S = 24.0\n",
      "C = 30.0\n",
      "Horas trabalhadas em sapatos: 240.0\n",
      "Horas trabalhadas em cintos: 360.0\n"
     ]
    }
   ],
   "source": [
    "# Definindo o modelo\n",
    "model = Model(GLPK.Optimizer)\n",
    "\n",
    "# Variáveis de decisão\n",
    "@variable(model, S >= 0, Int)\n",
    "@variable(model, C >= 0, Int)\n",
    "\n",
    "# Função objetivo\n",
    "@objective(model, Max, 5S + 4C)\n",
    "\n",
    "# Restrições de limitação de matéria-prima\n",
    "@constraint(model, 2S+C <= 78)\n",
    "\n",
    "# Restrições de horas trabalhadas\n",
    "@constraint(model, 10S+12C == 600)\n",
    "\n",
    "# Resolvendo o modelo\n",
    "optimize!(model)\n",
    "\n",
    "# Imprimindo o resultado\n",
    "println(\"Lucro máximo: \", objective_value(model))\n",
    "println(\"Quantidades ótimas de produção:\")\n",
    "println(\"S = \", value(S))\n",
    "println(\"C = \", value(C))\n",
    "#Horas trabalhadas \n",
    "println(\"Horas trabalhadas em sapatos: \", 10*value(S) )\n",
    "println(\"Horas trabalhadas em cintos: \", 12*value(C) )\n"
   ]
  },
  {
   "cell_type": "markdown",
   "metadata": {},
   "source": [
    "# Problema 1.5"
   ]
  },
  {
   "cell_type": "code",
   "execution_count": 70,
   "metadata": {},
   "outputs": [
    {
     "name": "stdout",
     "output_type": "stream",
     "text": [
      "Lucro máximo: 12000.0\n",
      "Quantidades ótimas de produção:\n",
      "QA = 0.0\n",
      "QB = 400.0\n",
      "Excedente de A: 500.0\n",
      "Excedente de B: 0.0\n",
      "Excedente de C: 0.0\n"
     ]
    }
   ],
   "source": [
    "# Definindo o modelo\n",
    "model = Model(GLPK.Optimizer)\n",
    "\n",
    "# Variáveis de decisão\n",
    "@variable(model, QA >= 0, Int)\n",
    "@variable(model, QB >= 0, Int)\n",
    "\n",
    "# Função objetivo\n",
    "@objective(model, Max, 20QA + 30QB)\n",
    "\n",
    "# Restrições de limitação de matéria-prima\n",
    "@constraint(model, (1/4)*QA <= 500)\n",
    "@constraint(model, (1/4)*QA + (1/2)*QB<= 200)\n",
    "@constraint(model, (1/2)*QA + (1/2)*QB<= 200)\n",
    "\n",
    "# Resolvendo o modelo\n",
    "optimize!(model)\n",
    "\n",
    "# Imprimindo o resultado\n",
    "println(\"Lucro máximo: \", objective_value(model))\n",
    "println(\"Quantidades ótimas de produção:\")\n",
    "println(\"QA = \", value(QA))\n",
    "println(\"QB = \", value(QB))\n",
    "\n",
    "#Exibindo o excedente de matéria-prima\n",
    "println(\"Excedente de A: \", 500 -  (1/4)*value(QA) )\n",
    "println(\"Excedente de B: \", 200 -  (1/4)*value(QA) - (1/2)*value(QB) )\n",
    "println(\"Excedente de C: \", 200 -  (1/2)*value(QA) - (1/2)*value(QB) )"
   ]
  },
  {
   "cell_type": "markdown",
   "metadata": {},
   "source": [
    "# Problema 1.6 - a implementação diz que não tem resultado ótimo\n"
   ]
  },
  {
   "cell_type": "code",
   "execution_count": 89,
   "metadata": {},
   "outputs": [
    {
     "ename": "MathOptInterface.ResultIndexBoundsError{MathOptInterface.ObjectiveValue}",
     "evalue": "Result index of attribute MathOptInterface.ObjectiveValue(1) out of bounds. There are currently 0 solution(s) in the model.",
     "output_type": "error",
     "traceback": [
      "Result index of attribute MathOptInterface.ObjectiveValue(1) out of bounds. There are currently 0 solution(s) in the model.\n",
      "\n",
      "Stacktrace:\n",
      "  [1] check_result_index_bounds\n",
      "    @ C:\\Users\\Daniel\\.julia\\packages\\MathOptInterface\\2rAFb\\src\\attributes.jl:207 [inlined]\n",
      "  [2] get(model::GLPK.Optimizer, attr::MathOptInterface.ObjectiveValue)\n",
      "    @ GLPK C:\\Users\\Daniel\\.julia\\packages\\GLPK\\wkuDA\\src\\MOI_wrapper\\MOI_wrapper.jl:1946\n",
      "  [3] get(b::MathOptInterface.Bridges.LazyBridgeOptimizer{GLPK.Optimizer}, attr::MathOptInterface.ObjectiveValue)\n",
      "    @ MathOptInterface.Bridges C:\\Users\\Daniel\\.julia\\packages\\MathOptInterface\\2rAFb\\src\\Bridges\\bridge_optimizer.jl:1111\n",
      "  [4] _get_model_attribute(model::MathOptInterface.Utilities.CachingOptimizer{MathOptInterface.Bridges.LazyBridgeOptimizer{GLPK.Optimizer}, MathOptInterface.Utilities.UniversalFallback{MathOptInterface.Utilities.Model{Float64}}}, attr::MathOptInterface.ObjectiveValue)\n",
      "    @ MathOptInterface.Utilities C:\\Users\\Daniel\\.julia\\packages\\MathOptInterface\\2rAFb\\src\\Utilities\\cachingoptimizer.jl:828\n",
      "  [5] get\n",
      "    @ C:\\Users\\Daniel\\.julia\\packages\\MathOptInterface\\2rAFb\\src\\Utilities\\cachingoptimizer.jl:895 [inlined]\n",
      "  [6] _moi_get_result(model::MathOptInterface.Utilities.CachingOptimizer{MathOptInterface.Bridges.LazyBridgeOptimizer{GLPK.Optimizer}, MathOptInterface.Utilities.UniversalFallback{MathOptInterface.Utilities.Model{Float64}}}, args::MathOptInterface.ObjectiveValue)\n",
      "    @ JuMP C:\\Users\\Daniel\\.julia\\packages\\JuMP\\as6Ji\\src\\optimizer_interface.jl:729\n",
      "  [7] get(model::Model, attr::MathOptInterface.ObjectiveValue)\n",
      "    @ JuMP C:\\Users\\Daniel\\.julia\\packages\\JuMP\\as6Ji\\src\\optimizer_interface.jl:749\n",
      "  [8] objective_value(model::Model; result::Int64)\n",
      "    @ JuMP C:\\Users\\Daniel\\.julia\\packages\\JuMP\\as6Ji\\src\\objective.jl:122\n",
      "  [9] objective_value(model::Model)\n",
      "    @ JuMP C:\\Users\\Daniel\\.julia\\packages\\JuMP\\as6Ji\\src\\objective.jl:118\n",
      " [10] top-level scope\n",
      "    @ c:\\Users\\Daniel\\Desktop\\7período\\PLI\\implementacaoA2\\PLI\\implementacoes.ipynb:33"
     ]
    }
   ],
   "source": [
    "# Definindo o modelo\n",
    "model = Model(GLPK.Optimizer)\n",
    "\n",
    "# Variáveis de decisão\n",
    "@variable(model, q[1:4, 1:3], Int)\n",
    "\n",
    "# Função objetivo\n",
    "c = [5.5, 4.5, 3.5]  # Venda dos diesel 1,2,3\n",
    "d = [3, 6, 4, 1] # Custo dos petróleos 1,2,3,4\n",
    "@objective(model, Max, sum((q[i,j] * c[j]) for i in 1:4, j in 1:3) - sum((q[i,j] * d[i]) for i in 1:4, j in 1:3))\n",
    "\n",
    "# Restrições de composição\n",
    "# Diesel A\n",
    "@constraint(model, (0.3) * sum(q[i,1] for i in 1:4) >= q[1,1])\n",
    "@constraint(model, (0.4) * sum(q[i,1] for i in 1:4) <= q[2,1])\n",
    "@constraint(model, (0.5) * sum(q[i,1] for i in 1:4) >= q[3,1])\n",
    "# Diesel B\n",
    "@constraint(model, (0.5) * sum(q[i,2] for i in 1:4) >= q[1,2])\n",
    "@constraint(model, (0.1) * sum(q[i,2] for i in 1:4) >= q[2,2])\n",
    "# Diesel C\n",
    "@constraint(model, (0.7) * sum(q[i,3] for i in 1:4) >= q[1,3])\n",
    "\n",
    "# Restrições de matéria-prima\n",
    "@constraint(model, sum(q[1,j] for j in 1:3) <= 3000)\n",
    "@constraint(model, sum(q[2,j] for j in 1:3) <= 2000)\n",
    "@constraint(model, sum(q[3,j] for j in 1:3) <= 4000)\n",
    "@constraint(model, sum(q[4,j] for j in 1:3) <= 1000)\n",
    "\n",
    "# Resolvendo o modelo\n",
    "optimize!(model)\n",
    "\n",
    "# Imprimindo o resultado\n",
    "println(\"Lucro máximo: \", objective_value(model))\n",
    "\n",
    "# Quantidades ótimas de produção de cada diesel\n",
    "for j in 1:3\n",
    "    println(\"Quantidade ótima de diesel tipo $j: \", sum(value(q[i,j]) for i in 1:4))\n",
    "end\n",
    "\n",
    "# Excedentes de matéria-prima\n",
    "println(\"Excedente de matéria-prima:\")\n",
    "println(\"Excedente de 1: \", 3000 - sum(value(q[1,j]) for j in 1:3))\n",
    "println(\"Excedente de 2: \", 2000 - sum(value(q[2,j]) for j in 1:3))\n",
    "println(\"Excedente de 3: \", 4000 - sum(value(q[3,j]) for j in 1:3))\n",
    "println(\"Excedente de 4: \", 1000 - sum(value(q[4,j]) for j in 1:3))\n"
   ]
  },
  {
   "cell_type": "markdown",
   "metadata": {},
   "source": [
    "# Problema 2.1 - Gestão da produção de eletricidade"
   ]
  },
  {
   "cell_type": "code",
   "execution_count": null,
   "metadata": {},
   "outputs": [],
   "source": []
  },
  {
   "cell_type": "markdown",
   "metadata": {},
   "source": [
    "# Problema 2.2 - Gestão de carreiras"
   ]
  },
  {
   "cell_type": "code",
   "execution_count": 10,
   "metadata": {},
   "outputs": [
    {
     "name": "stdout",
     "output_type": "stream",
     "text": [
      "Retorno: 110000.0\n",
      "Lucro obtido: 10000.0\n",
      "Investimento em cada ativo:\n",
      "q[1] = 0.0\n",
      "q[2] = 0.0\n",
      "q[3] = 0.0\n",
      "q[4] = 0.0\n",
      "q[5] = 100000.0\n"
     ]
    }
   ],
   "source": [
    "# Definindo o modelo\n",
    "model = Model(GLPK.Optimizer)\n",
    "\n",
    "# Variáveis de decisão\n",
    "@variable(model, q[1:5] >= 0)  \n",
    "\n",
    "# Função objetivo\n",
    "c = [0.05; 0.065; 0.057; 0.052; 0.1] \n",
    "@objective(model, Max, sum(q[i] * c[i] for i in 1:5)) \n",
    "# Restrições de limitação de investimento\n",
    "@constraint(model, sum(q[i] for i in 1:5) == 100000)\n",
    "\n",
    "# Resolvendo o modelo\n",
    "optimize!(model)\n",
    "\n",
    "# Imprimindo o resultado\n",
    "println(\"Retorno: \", objective_value(model) + 100000)  \n",
    "println(\"Lucro obtido: \", objective_value(model)) \n",
    "println(\"Investimento em cada ativo:\")\n",
    "for i in 1:5\n",
    "    println(\"q[$i] = \", value(q[i]))\n",
    "end\n",
    "\n"
   ]
  },
  {
   "cell_type": "markdown",
   "metadata": {},
   "source": [
    "# Problema 2.5 - Problema da mochila"
   ]
  },
  {
   "cell_type": "code",
   "execution_count": 15,
   "metadata": {},
   "outputs": [
    {
     "name": "stdout",
     "output_type": "stream",
     "text": [
      "Utilidade máxima: 168.0\n",
      "Peso atingido: 9.7\n",
      "Objetos escolhidos:\n",
      "Papel Higiênico\n",
      "Panela leve para cozinhar\n",
      "Canivete suíço\n",
      "Capacete de escalada\n",
      "Mosquetões\n",
      "Roupas térmicas\n",
      "Luvas resistentes ao frio\n",
      "Gorro de lã\n",
      "Óculos de sol com proteção UV\n",
      "Botas de trekking impermeáveis\n",
      "Mapa da região\n",
      "GPS portátil\n",
      "Cantil de água\n",
      "Comida em pó\n",
      "Protetor solar de alta proteção\n",
      "Kit de primeiros socorros\n",
      "Lanterna de cabeça\n",
      "Bússola\n",
      "Kit escalada\n",
      "Bolsa estanque para objetos importantes\n",
      "Garrafa térmica\n"
     ]
    }
   ],
   "source": [
    "# Definindo o modelo\n",
    "model = Model(GLPK.Optimizer)\n",
    "\n",
    "# Variáveis de decisão\n",
    "@variable(model, x[1:25], Bin)  \n",
    "\n",
    "# Função objetivo\n",
    "# Lista de objetos úteis para uma viagem às montanhas da Cordilheira dos Andes\n",
    "objetos = [\n",
    "    \"Barraca resistente ao frio\", \"Saco para baixas temperaturas\",\n",
    "    \"Papel Higiênico\", \"Panela leve para cozinhar\", \"Canivete suíço\",\n",
    "    \"Cordas de escalada\", \"Capacete de escalada\", \"Mosquetões\",\n",
    "    \"Roupas térmicas\", \"Luvas resistentes ao frio\", \"Gorro de lã\",\n",
    "    \"Óculos de sol com proteção UV\", \"Botas de trekking impermeáveis\",\n",
    "    \"Mapa da região\", \"GPS portátil\", \"Cantil de água\", \"Comida em pó\",\n",
    "    \"Protetor solar de alta proteção\", \"Kit de primeiros socorros\",\n",
    "    \"Lanterna de cabeça\", \"Bússola\", \"Kit escalada\",\n",
    "    \"Bolsa estanque para objetos importantes\", \"Mochila de trekking\",\n",
    "    \"Garrafa térmica\"\n",
    "]\n",
    "\n",
    "# Lista de valores numéricos da utilidade de cada objeto\n",
    "utilidade = [\n",
    "    9, 10, 8, 7, 6, 9, 9, 8, 10, 9, 8, 7, 9, 7, 8, 7, 9, 7, 10, 8, 7, 8, 7, 8, 9, 8\n",
    "]\n",
    "\n",
    "# Lista de pesos dos objetos (em kg)\n",
    "pesos = [\n",
    "    3, 2, 1, 0.5, 0.2, 4, 0.5, 0.3, 2, 0.3, 0.1, 0.1, 1.5, 0.1, 0.3, 0.2, 0.5, 0.1, 0.5,\n",
    "    0.3, 0.2, 0.3, 0.2, 2, 0.5\n",
    "]\n",
    "\n",
    "@objective(model, Max, sum(utilidade[i] * x[i] for i in 1:25)) \n",
    "\n",
    "# Restrições de limite de carga\n",
    "@constraint(model, sum( x[i] * pesos[i] for i in 1:25) <= 10)\n",
    "\n",
    "# Resolvendo o modelo\n",
    "optimize!(model)\n",
    "\n",
    "# Imprimindo o resultado\n",
    "println(\"Utilidade máxima: \", objective_value(model))  \n",
    "println(\"Peso atingido: \", sum(pesos[i]*value(x[i]) for i in 1:25)) \n",
    "println(\"Objetos escolhidos:\")\n",
    "contador = 1\n",
    "for i in 1:25\n",
    "    if value(x[i]) > 0\n",
    "        println(contador,\".\", objetos[i])\n",
    "        contador+=1\n",
    "    end\n",
    "end\n"
   ]
  }
 ],
 "metadata": {
  "kernelspec": {
   "display_name": "Julia 1.10.2",
   "language": "julia",
   "name": "julia-1.10"
  },
  "language_info": {
   "file_extension": ".jl",
   "mimetype": "application/julia",
   "name": "julia",
   "version": "1.10.2"
  }
 },
 "nbformat": 4,
 "nbformat_minor": 2
}
