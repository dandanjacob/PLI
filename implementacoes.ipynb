{
 "cells": [
  {
   "cell_type": "markdown",
   "metadata": {},
   "source": [
    "# Implementações dos problemas de PLI - A2\n",
    "### Disciplina: Programação Linear Inteira\n",
    "### Integrantes: Daniel Jacob, Juliana Carrica, Wendell Oliveira\n",
    "### Professor: Vincent Gerard Y. Guigues\n",
    "### Monitor: Danilo"
   ]
  },
  {
   "cell_type": "code",
   "execution_count": 38,
   "metadata": {},
   "outputs": [],
   "source": [
    "#Bibliotecas \n",
    "using JuMP\n",
    "using GLPK\n",
    "\n",
    "import Pkg; Pkg.add(\"MathOptInterface\")\n"
   ]
  },
  {
   "cell_type": "markdown",
   "metadata": {},
   "source": [
    "# Problema 1.1"
   ]
  },
  {
   "cell_type": "code",
   "execution_count": 14,
   "metadata": {},
   "outputs": [
    {
     "name": "stdout",
     "output_type": "stream",
     "text": [
      "Custo mínimo: 1050.0\n",
      "Quantidades ótimas de transporte:\n",
      "q[1, 1] = 100.0\n",
      "q[1, 2] = 200.0\n",
      "q[1, 3] = 100.0\n",
      "q[2, 1] = 0.0\n",
      "q[2, 2] = 0.0\n",
      "q[2, 3] = 200.0\n",
      "Excedente na usina 1: 0.0\n",
      "Excedente na usina 2: 100.0\n"
     ]
    }
   ],
   "source": [
    "# Definindo o modelo\n",
    "model = Model(GLPK.Optimizer)\n",
    "\n",
    "# Variáveis de decisão\n",
    "@variable(model, q[1:2, 1:3] >= 0, Int)\n",
    "\n",
    "# Função objetivo\n",
    "c = [1 2 1.5; 2 3.5 2]  # Custos de transporte organizados por usina\n",
    "@objective(model, Min, sum(q[i, j] * c[i, j] for i in 1:2, j in 1:3))\n",
    "\n",
    "# Restrições de capacidade das usinas\n",
    "@constraint(model, sum(q[1, j] for j in 1:3) <= 400)\n",
    "@constraint(model, sum(q[2, j] for j in 1:3) <= 300)\n",
    "\n",
    "# Restrições de demanda das fábricas\n",
    "@constraint(model, sum(q[i,1] for i in 1:2) == 100)\n",
    "@constraint(model, sum(q[i,2] for i in 1:2) == 200)\n",
    "@constraint(model, sum(q[i,3] for i in 1:2) == 300)\n",
    "\n",
    "# Resolvendo o modelo\n",
    "optimize!(model)\n",
    "\n",
    "# Imprimindo o resultado\n",
    "println(\"Custo mínimo: \", objective_value(model))\n",
    "println(\"Quantidades ótimas de transporte:\")\n",
    "for i in 1:2\n",
    "    for j in 1:3\n",
    "        println(\"q[$i, $j] = \", value(q[i, j]))\n",
    "    end\n",
    "end\n",
    "\n",
    "# Imprimindo excedente no estoque\n",
    "println(\"Excedente na usina 1: \", 400 -  value(sum(q[1, j] for j in 1:3)) )\n",
    "println(\"Excedente na usina 2: \", 300 -  value(sum(q[2, j] for j in 1:3)) )"
   ]
  },
  {
   "cell_type": "markdown",
   "metadata": {},
   "source": [
    "# Problema 1.2"
   ]
  },
  {
   "cell_type": "code",
   "execution_count": 59,
   "metadata": {},
   "outputs": [
    {
     "name": "stdout",
     "output_type": "stream",
     "text": [
      "Lucro máximo: 62.0\n",
      "Quantidades ótimas de produção:\n",
      "T[1] = 5.0\n",
      "T[2] = 3.0\n",
      "Excedente 1: 0.0\n",
      "Excedente 2: 0.0\n",
      "Excedente 3: 1.0\n"
     ]
    }
   ],
   "source": [
    "# Definindo o modelo\n",
    "model_first = Model(GLPK.Optimizer)\n",
    "\n",
    "# Variáveis de decisão\n",
    "@variable(model_first, T[1:2] >= 0, Int)\n",
    "\n",
    "# Função objetivo\n",
    "c = [7 9]  # Lucro por kilo de produto\n",
    "@objective(model_first, Max, sum(T[j] * c[j] for j in 1:2))\n",
    "\n",
    "# Restrições de limitação de matéria-prima\n",
    "@constraint(model_first, T[1] + T[2] <= 8)\n",
    "@constraint(model_first, 2T[1] + 3T[2] <= 19)\n",
    "@constraint(model_first, T[2] <= 4)\n",
    "\n",
    "# Resolvendo o modelo]\n",
    "optimize!(model_first)\n",
    "\n",
    "# Imprimindo o resultado\n",
    "println(\"Lucro máximo: \", objective_value(model_first))\n",
    "println(\"Quantidades ótimas de produção:\")\n",
    "for i in 1:2\n",
    "    println(\"T[$i] = \", value(T[i]))\n",
    "end\n",
    "\n",
    "#Exibindo o excedente de matéria-prima\n",
    "println(\"Excedente Nitrato: \", 8 - ( value(T[1]) + value(T[2]) ))\n",
    "println(\"Excedente Sal de Potássio: \", 19 - ( 2value(T[1]) + 3value(T[2])))\n",
    "println(\"Excedente Fosfato: \", 4 -  (value(T[2]) ))\n",
    "\n",
    "\n"
   ]
  },
  {
   "cell_type": "code",
   "execution_count": 62,
   "metadata": {},
   "outputs": [
    {
     "name": "stdout",
     "output_type": "stream",
     "text": [
      "Minimização do preço à granel: 62.0\n",
      "Preço por granel:\n",
      "P[1] = 3.0\n",
      "P[2] = 2.0\n",
      "P[3] = 0.0\n"
     ]
    }
   ],
   "source": [
    "# Definindo o modelo\n",
    "model_sec = Model(GLPK.Optimizer)\n",
    "\n",
    "# Variáveis de decisão\n",
    "@variable(model_sec, P[1:3] >= 0, Int)\n",
    "\n",
    "# Função objetivo\n",
    "c = [8, 19, 4]  # Quantidade de nutrientes por quilo de produto disponível\n",
    "@objective(model_sec, Min, sum(P[i] * c[i] for i in 1:3))\n",
    "\n",
    "# Restrições de lucro por quilo de produto\n",
    "@constraint(model_sec, P[1] + 2* P[2] >= 7)\n",
    "@constraint(model_sec, P[1] +3P[2] + P[3] >= 9)\n",
    "\n",
    "# Resolvendo o modelo\n",
    "optimize!(model_sec)\n",
    "\n",
    "# Imprimindo o resultado\n",
    "println(\"Minimização do preço à granel: \", objective_value(model_sec))\n",
    "println(\"Preço por granel:\")\n",
    "for i in 1:3\n",
    "    println(\"P[$i] = \", value(P[i]))\n",
    "end\n"
   ]
  }
 ],
 "metadata": {
  "kernelspec": {
   "display_name": "Julia 1.10.2",
   "language": "julia",
   "name": "julia-1.10"
  },
  "language_info": {
   "file_extension": ".jl",
   "mimetype": "application/julia",
   "name": "julia",
   "version": "1.10.2"
  }
 },
 "nbformat": 4,
 "nbformat_minor": 2
}
