{
 "cells": [
  {
   "cell_type": "markdown",
   "metadata": {},
   "source": [
    "# Questão 1\n",
    "## item a)"
   ]
  },
  {
   "cell_type": "markdown",
   "metadata": {},
   "source": []
  },
  {
   "cell_type": "markdown",
   "metadata": {},
   "source": [
    "## Item b)\n"
   ]
  },
  {
   "cell_type": "markdown",
   "metadata": {},
   "source": [
    "## Item c)"
   ]
  },
  {
   "cell_type": "markdown",
   "metadata": {},
   "source": [
    "Montando a tabela:\n",
    "$$\n",
    "\\begin{tabular}{|c|c|c|c|c|c|c|c|c|}\n",
    "\\hline\n",
    "\\multicolumn{1}{|l|}{\\textbf{Base}} & \\textbf{$x_1$} & \\textbf{$x_2$} & \\textbf{$e_1$} & \\textbf{$e_2$} & \\textbf{$b$} & \\textbf{$\\frac{b}{a_{ij}}$} & \\textbf{$a_{ij}$} & \\textbf{$\\frac{b}{a_{ij}}$} \\\\ \\hline\n",
    "$x_1$                               & 1              & -1             & 1             & 0             & 2           & 2                           & 1             & 2                           \\\\ \\hline\n",
    "$x_2$                               & 1              & 1              & 0             & 1             & 6           & 6                           & 1             & 6                           \\\\ \\hline\n",
    "\\end{tabular}\n",
    "$$\n"
   ]
  }
 ],
 "metadata": {
  "language_info": {
   "name": "python"
  }
 },
 "nbformat": 4,
 "nbformat_minor": 2
}
